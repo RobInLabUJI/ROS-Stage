{
 "cells": [
  {
   "cell_type": "code",
   "execution_count": 1,
   "metadata": {},
   "outputs": [
    {
     "name": "stdout",
     "output_type": "stream",
     "text": [
      "Starting job # 0 in a separate thread.\n"
     ]
    }
   ],
   "source": [
    "%%bash --bg\n",
    "roscore"
   ]
  },
  {
   "cell_type": "code",
   "execution_count": 2,
   "metadata": {},
   "outputs": [
    {
     "name": "stdout",
     "output_type": "stream",
     "text": [
      "Starting job # 2 in a separate thread.\n"
     ]
    }
   ],
   "source": [
    "%%bash --bg\n",
    "rosrun stage_ros stageros -g maps/stage/maze.world"
   ]
  },
  {
   "cell_type": "code",
   "execution_count": 3,
   "metadata": {},
   "outputs": [],
   "source": [
    "%%bash\n",
    "rosparam set use_sim_time true"
   ]
  },
  {
   "cell_type": "code",
   "execution_count": 4,
   "metadata": {},
   "outputs": [
    {
     "name": "stdout",
     "output_type": "stream",
     "text": [
      "Starting job # 3 in a separate thread.\n"
     ]
    }
   ],
   "source": [
    "%%bash --bg\n",
    "rosrun map_server map_server maps/maze.yaml"
   ]
  },
  {
   "cell_type": "code",
   "execution_count": 5,
   "metadata": {},
   "outputs": [
    {
     "name": "stdout",
     "output_type": "stream",
     "text": [
      "/base_pose_ground_truth\r\n",
      "/base_scan\r\n",
      "/clock\r\n",
      "/cmd_vel\r\n",
      "/map\r\n",
      "/map_metadata\r\n",
      "/odom\r\n",
      "/rosout\r\n",
      "/rosout_agg\r\n",
      "/tf\r\n"
     ]
    }
   ],
   "source": [
    "!rostopic list"
   ]
  },
  {
   "cell_type": "code",
   "execution_count": 6,
   "metadata": {},
   "outputs": [
    {
     "name": "stdout",
     "output_type": "stream",
     "text": [
      "/map_server_1519324161630902185\r\n",
      "/rosout\r\n",
      "/stageros\r\n"
     ]
    }
   ],
   "source": [
    "!rosnode list"
   ]
  },
  {
   "cell_type": "code",
   "execution_count": 7,
   "metadata": {},
   "outputs": [
    {
     "name": "stdout",
     "output_type": "stream",
     "text": [
      "map_load_time: \n",
      "  secs: 0\n",
      "  nsecs:         0\n",
      "resolution: 0.0500000007451\n",
      "width: 200\n",
      "height: 200\n",
      "origin: \n",
      "  position: \n",
      "    x: 0.0\n",
      "    y: 0.0\n",
      "    z: 0.0\n",
      "  orientation: \n",
      "    x: 0.0\n",
      "    y: 0.0\n",
      "    z: 0.0\n",
      "    w: 1.0\n",
      "---\n",
      "Exception in thread Thread-3 (most likely raised during interpreter shutdown):\n",
      "Traceback (most recent call last):\n",
      "  File \"/usr/lib/python2.7/threading.py\", line 801, in __bootstrap_inner\n",
      "  File \"/usr/lib/python2.7/threading.py\", line 754, in run\n",
      "  File \"/opt/ros/kinetic/lib/python2.7/dist-packages/rospy/impl/tcpros_base.py\", line 154, in run\n",
      "<type 'exceptions.AttributeError'>: 'NoneType' object has no attribute 'timeout'\n"
     ]
    }
   ],
   "source": [
    "!rostopic echo -n 1 /map_metadata"
   ]
  },
  {
   "cell_type": "code",
   "execution_count": 24,
   "metadata": {},
   "outputs": [],
   "source": [
    "import rospy\n",
    "from nav_msgs.msg import MapMetaData, OccupancyGrid, Odometry\n",
    "\n",
    "def cb_MapMetaData(data):\n",
    "    global mmd\n",
    "    mmd = data\n",
    "    \n",
    "def cb_OccupancyGrid(data):\n",
    "    global og\n",
    "    og = data.data\n",
    "    \n",
    "def cb_Pose(data):\n",
    "    global pose\n",
    "    pose = data.pose.pose\n",
    "    \n",
    "def pixel(pose, mmd):\n",
    "    x = pose.position.x\n",
    "    y = pose.position.y\n",
    "    xp = x / mmd.resolution\n",
    "    yp = y / mmd.resolution\n",
    "    return (xp, mmd.height - yp)"
   ]
  },
  {
   "cell_type": "code",
   "execution_count": 25,
   "metadata": {},
   "outputs": [],
   "source": [
    "rospy.init_node('listener', anonymous=True)"
   ]
  },
  {
   "cell_type": "code",
   "execution_count": 26,
   "metadata": {},
   "outputs": [
    {
     "data": {
      "text/plain": [
       "<rospy.topics.Subscriber at 0x7f56a4618290>"
      ]
     },
     "execution_count": 26,
     "metadata": {},
     "output_type": "execute_result"
    }
   ],
   "source": [
    "rospy.Subscriber('/map_metadata', MapMetaData, cb_MapMetaData)\n",
    "rospy.Subscriber('/map', OccupancyGrid, cb_OccupancyGrid)\n",
    "rospy.Subscriber('/base_pose_ground_truth', Odometry, cb_Pose)"
   ]
  },
  {
   "cell_type": "code",
   "execution_count": 35,
   "metadata": {},
   "outputs": [],
   "source": [
    "import matplotlib.pyplot as plt\n",
    "%matplotlib inline"
   ]
  },
  {
   "cell_type": "code",
   "execution_count": 36,
   "metadata": {},
   "outputs": [],
   "source": [
    "import numpy as np"
   ]
  },
  {
   "cell_type": "code",
   "execution_count": 37,
   "metadata": {},
   "outputs": [],
   "source": [
    "m = np.array(og)"
   ]
  },
  {
   "cell_type": "code",
   "execution_count": 38,
   "metadata": {},
   "outputs": [],
   "source": [
    "m = np.flipud(100 - m.reshape((200, 200)))"
   ]
  },
  {
   "cell_type": "code",
   "execution_count": 61,
   "metadata": {},
   "outputs": [
    {
     "data": {
      "image/png": "[encoded data removed]",
      "text/plain": [
       "<matplotlib.figure.Figure at 0x7f566f4dbc90>"
      ]
     },
     "metadata": {},
     "output_type": "display_data"
    }
   ],
   "source": [
    "plt.imshow(m, cmap='gray');\n",
    "plt.axis('off');\n",
    "(x, y) = pixel(pose, mmd)\n",
    "plt.plot(x,y,'o');"
   ]
  },
  {
   "cell_type": "code",
   "execution_count": 63,
   "metadata": {},
   "outputs": [],
   "source": [
    "from geometry_msgs.msg import Twist\n",
    "from IPython import display"
   ]
  },
  {
   "cell_type": "code",
   "execution_count": 67,
   "metadata": {},
   "outputs": [
    {
     "data": {
      "image/png": "[encoded data removed]",
      "text/plain": [
       "<matplotlib.figure.Figure at 0x7f566ffb5890>"
      ]
     },
     "metadata": {},
     "output_type": "display_data"
    }
   ],
   "source": [
    "rate = rospy.Rate(10) # 10hz\n",
    "pub = rospy.Publisher('cmd_vel', Twist, queue_size=10)\n",
    "twist = Twist()\n",
    "twist.linear.x = 0.3\n",
    "for i in range(50):\n",
    "    pub.publish(twist)\n",
    "    plt.clf();\n",
    "    plt.imshow(m, cmap='gray');\n",
    "    plt.axis('off');\n",
    "    (x, y) = pixel(pose, mmd)\n",
    "    plt.plot(x,y,'o');\n",
    "    display.display(plt.gcf())\n",
    "    display.clear_output(wait=True)\n",
    "    rate.sleep()"
   ]
  },
  {
   "cell_type": "code",
   "execution_count": null,
   "metadata": {},
   "outputs": [],
   "source": []
  }
 ],
 "metadata": {
  "kernelspec": {
   "display_name": "Python 2",
   "language": "python",
   "name": "python2"
  },
  "language_info": {
   "codemirror_mode": {
    "name": "ipython",
    "version": 2
   },
   "file_extension": ".py",
   "mimetype": "text/x-python",
   "name": "python",
   "nbconvert_exporter": "python",
   "pygments_lexer": "ipython2",
   "version": "2.7.12"
  }
 },
 "nbformat": 4,
 "nbformat_minor": 2
}
