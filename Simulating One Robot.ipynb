{
 "cells": [
  {
   "cell_type": "code",
   "execution_count": 1,
   "metadata": {},
   "outputs": [
    {
     "name": "stdout",
     "output_type": "stream",
     "text": [
      "Starting job # 0 in a separate thread.\n"
     ]
    }
   ],
   "source": [
    "%%bash --bg\n",
    "roscore"
   ]
  },
  {
   "cell_type": "code",
   "execution_count": 2,
   "metadata": {},
   "outputs": [
    {
     "name": "stdout",
     "output_type": "stream",
     "text": [
      "Starting job # 2 in a separate thread.\n"
     ]
    }
   ],
   "source": [
    "%%bash --bg\n",
    "rosrun stage_ros stageros -g maps/stage/maze.world"
   ]
  },
  {
   "cell_type": "code",
   "execution_count": 3,
   "metadata": {},
   "outputs": [],
   "source": [
    "%%bash\n",
    "rosparam set use_sim_time true"
   ]
  },
  {
   "cell_type": "code",
   "execution_count": 4,
   "metadata": {},
   "outputs": [
    {
     "name": "stdout",
     "output_type": "stream",
     "text": [
      "Starting job # 3 in a separate thread.\n"
     ]
    }
   ],
   "source": [
    "%%bash --bg\n",
    "rosrun map_server map_server maps/maze.yaml"
   ]
  },
  {
   "cell_type": "code",
   "execution_count": 5,
   "metadata": {},
   "outputs": [
    {
     "name": "stdout",
     "output_type": "stream",
     "text": [
      "/base_pose_ground_truth\r\n",
      "/base_scan\r\n",
      "/clock\r\n",
      "/cmd_vel\r\n",
      "/map\r\n",
      "/map_metadata\r\n",
      "/odom\r\n",
      "/rosout\r\n",
      "/rosout_agg\r\n",
      "/tf\r\n"
     ]
    }
   ],
   "source": [
    "!rostopic list"
   ]
  },
  {
   "cell_type": "code",
   "execution_count": 6,
   "metadata": {},
   "outputs": [
    {
     "name": "stdout",
     "output_type": "stream",
     "text": [
      "/map_server_1519334988563229230\r\n",
      "/map_server_1519336045846361142\r\n",
      "/rosout\r\n",
      "/stageros\r\n"
     ]
    }
   ],
   "source": [
    "!rosnode list"
   ]
  },
  {
   "cell_type": "code",
   "execution_count": 7,
   "metadata": {},
   "outputs": [
    {
     "name": "stdout",
     "output_type": "stream",
     "text": [
      "map_load_time: \r\n",
      "  secs: 0\r\n",
      "  nsecs:         0\r\n",
      "resolution: 0.0500000007451\r\n",
      "width: 200\r\n",
      "height: 200\r\n",
      "origin: \r\n",
      "  position: \r\n",
      "    x: 0.0\r\n",
      "    y: 0.0\r\n",
      "    z: 0.0\r\n",
      "  orientation: \r\n",
      "    x: 0.0\r\n",
      "    y: 0.0\r\n",
      "    z: 0.0\r\n",
      "    w: 1.0\r\n",
      "---\r\n"
     ]
    }
   ],
   "source": [
    "!rostopic echo -n 1 /map_metadata"
   ]
  },
  {
   "cell_type": "code",
   "execution_count": 8,
   "metadata": {},
   "outputs": [],
   "source": [
    "import rospy\n",
    "from nav_msgs.msg import MapMetaData, OccupancyGrid, Odometry\n",
    "from sensor_msgs.msg import LaserScan\n",
    "\n",
    "def cb_MapMetaData(data):\n",
    "    global mmd\n",
    "    mmd = data\n",
    "    \n",
    "def cb_OccupancyGrid(data):\n",
    "    global og\n",
    "    og = data.data\n",
    "    \n",
    "def cb_Pose(data):\n",
    "    global pose\n",
    "    pose = data.pose.pose\n",
    "    \n",
    "def cb_Scan(data):\n",
    "    global scan\n",
    "    scan = data\n",
    "\n",
    "def pixel(pose, mmd):\n",
    "    x = pose.position.x\n",
    "    y = pose.position.y\n",
    "    xp = x / mmd.resolution\n",
    "    yp = y / mmd.resolution\n",
    "    return (xp, mmd.height - yp)"
   ]
  },
  {
   "cell_type": "code",
   "execution_count": 9,
   "metadata": {},
   "outputs": [],
   "source": [
    "rospy.init_node('listener', anonymous=True)"
   ]
  },
  {
   "cell_type": "code",
   "execution_count": 15,
   "metadata": {},
   "outputs": [
    {
     "data": {
      "text/plain": [
       "<rospy.topics.Subscriber at 0x7fc901829610>"
      ]
     },
     "execution_count": 15,
     "metadata": {},
     "output_type": "execute_result"
    }
   ],
   "source": [
    "rospy.Subscriber('/map_metadata', MapMetaData, cb_MapMetaData)\n",
    "rospy.Subscriber('/map', OccupancyGrid, cb_OccupancyGrid)\n",
    "rospy.Subscriber('/base_pose_ground_truth', Odometry, cb_Pose)\n",
    "rospy.Subscriber('/base_scan', LaserScan, cb_Scan)"
   ]
  },
  {
   "cell_type": "code",
   "execution_count": 16,
   "metadata": {},
   "outputs": [],
   "source": [
    "import numpy as np\n",
    "import matplotlib.pyplot as plt\n",
    "from IPython import display\n",
    "%matplotlib inline\n",
    "\n",
    "def plot_stage():\n",
    "    plt.rcParams[\"figure.figsize\"] = (6,6)\n",
    "    plt.clf();\n",
    "    m = np.array(og)\n",
    "    m = np.flipud(100 - m.reshape((200, 200)))\n",
    "    plt.imshow(m, cmap='gray');\n",
    "    plt.axis('off');\n",
    "    (x, y) = pixel(pose, mmd)\n",
    "    plt.plot(x,y,'o');\n",
    "    display.display(plt.gcf())\n",
    "    display.clear_output(wait=True)"
   ]
  },
  {
   "cell_type": "code",
   "execution_count": 17,
   "metadata": {},
   "outputs": [
    {
     "data": {
      "image/png": "[encoded data removed]",
      "text/plain": [
       "<matplotlib.figure.Figure at 0x7fc901763b90>"
      ]
     },
     "metadata": {},
     "output_type": "display_data"
    }
   ],
   "source": [
    "from geometry_msgs.msg import Twist\n",
    "\n",
    "rate = rospy.Rate(10) # 10hz\n",
    "pub = rospy.Publisher('cmd_vel', Twist, queue_size=10)\n",
    "twist = Twist()\n",
    "twist.linear.x = 0.25\n",
    "for i in range(50):\n",
    "    pub.publish(twist)\n",
    "    plot_stage()\n",
    "    rate.sleep()"
   ]
  },
  {
   "cell_type": "code",
   "execution_count": 18,
   "metadata": {},
   "outputs": [
    {
     "data": {
      "text/plain": [
       "position: \n",
       "  x: 2.05\n",
       "  y: 2.0\n",
       "  z: 0.0\n",
       "orientation: \n",
       "  x: 0.0\n",
       "  y: 0.0\n",
       "  z: 0.0\n",
       "  w: 1.0"
      ]
     },
     "execution_count": 18,
     "metadata": {},
     "output_type": "execute_result"
    }
   ],
   "source": [
    "pose"
   ]
  },
  {
   "cell_type": "code",
   "execution_count": 20,
   "metadata": {},
   "outputs": [
    {
     "ename": "NameError",
     "evalue": "name 'scan' is not defined",
     "output_type": "error",
     "traceback": [
      "\u001b[0;31m\u001b[0m",
      "\u001b[0;31mNameError\u001b[0mTraceback (most recent call last)",
      "\u001b[0;32m<ipython-input-20-a34fc894c082>\u001b[0m in \u001b[0;36m<module>\u001b[0;34m()\u001b[0m\n\u001b[0;32m----> 1\u001b[0;31m \u001b[0mscan\u001b[0m\u001b[0;34m\u001b[0m\u001b[0m\n\u001b[0m",
      "\u001b[0;31mNameError\u001b[0m: name 'scan' is not defined"
     ]
    }
   ],
   "source": [
    "scan"
   ]
  },
  {
   "cell_type": "code",
   "execution_count": null,
   "metadata": {},
   "outputs": [],
   "source": []
  }
 ],
 "metadata": {
  "kernelspec": {
   "display_name": "Python 2",
   "language": "python",
   "name": "python2"
  },
  "language_info": {
   "codemirror_mode": {
    "name": "ipython",
    "version": 2
   },
   "file_extension": ".py",
   "mimetype": "text/x-python",
   "name": "python",
   "nbconvert_exporter": "python",
   "pygments_lexer": "ipython2",
   "version": "2.7.12"
  }
 },
 "nbformat": 4,
 "nbformat_minor": 2
}
