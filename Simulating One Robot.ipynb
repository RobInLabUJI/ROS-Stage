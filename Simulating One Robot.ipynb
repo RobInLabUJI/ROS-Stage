{
 "cells": [
  {
   "cell_type": "code",
   "execution_count": 1,
   "metadata": {},
   "outputs": [
    {
     "name": "stdout",
     "output_type": "stream",
     "text": [
      "Starting job # 0 in a separate thread.\n"
     ]
    }
   ],
   "source": [
    "%%bash --bg\n",
    "roscore"
   ]
  },
  {
   "cell_type": "code",
   "execution_count": 2,
   "metadata": {},
   "outputs": [
    {
     "name": "stdout",
     "output_type": "stream",
     "text": [
      "Starting job # 2 in a separate thread.\n"
     ]
    }
   ],
   "source": [
    "%%bash --bg\n",
    "rosrun stage_ros stageros -g maps/stage/maze.world"
   ]
  },
  {
   "cell_type": "code",
   "execution_count": 3,
   "metadata": {},
   "outputs": [],
   "source": [
    "%%bash\n",
    "rosparam set use_sim_time true"
   ]
  },
  {
   "cell_type": "code",
   "execution_count": 4,
   "metadata": {},
   "outputs": [
    {
     "name": "stdout",
     "output_type": "stream",
     "text": [
      "Starting job # 3 in a separate thread.\n"
     ]
    }
   ],
   "source": [
    "%%bash --bg\n",
    "rosrun map_server map_server maps/maze.yaml"
   ]
  },
  {
   "cell_type": "code",
   "execution_count": 5,
   "metadata": {},
   "outputs": [
    {
     "name": "stdout",
     "output_type": "stream",
     "text": [
      "/base_pose_ground_truth\r\n",
      "/base_scan\r\n",
      "/clock\r\n",
      "/cmd_vel\r\n",
      "/map\r\n",
      "/map_metadata\r\n",
      "/odom\r\n",
      "/rosout\r\n",
      "/rosout_agg\r\n",
      "/tf\r\n"
     ]
    }
   ],
   "source": [
    "!rostopic list"
   ]
  },
  {
   "cell_type": "code",
   "execution_count": 6,
   "metadata": {},
   "outputs": [
    {
     "name": "stdout",
     "output_type": "stream",
     "text": [
      "/map_server_1519336399596854916\r\n",
      "/rosout\r\n",
      "/stageros\r\n"
     ]
    }
   ],
   "source": [
    "!rosnode list"
   ]
  },
  {
   "cell_type": "code",
   "execution_count": 35,
   "metadata": {},
   "outputs": [],
   "source": [
    "import rospy\n",
    "from nav_msgs.msg import MapMetaData, OccupancyGrid, Odometry\n",
    "from sensor_msgs.msg import LaserScan\n",
    "\n",
    "def cb_MapMetaData(data):\n",
    "    global mmd\n",
    "    mmd = data\n",
    "    \n",
    "def cb_OccupancyGrid(data):\n",
    "    global og\n",
    "    og = data.data\n",
    "    \n",
    "def cb_Pose(data):\n",
    "    global pose\n",
    "    pose = data.pose.pose\n",
    "    \n",
    "def cb_Scan(data):\n",
    "    global scan\n",
    "    scan = data\n",
    "\n",
    "def pixel(x, y, mmd):\n",
    "    #x = pose.position.x\n",
    "    #y = pose.position.y\n",
    "    xp = x / mmd.resolution\n",
    "    yp = y / mmd.resolution\n",
    "    return (xp, mmd.height - yp)"
   ]
  },
  {
   "cell_type": "code",
   "execution_count": 8,
   "metadata": {},
   "outputs": [],
   "source": [
    "rospy.init_node('listener', anonymous=True)"
   ]
  },
  {
   "cell_type": "code",
   "execution_count": 9,
   "metadata": {},
   "outputs": [
    {
     "data": {
      "text/plain": [
       "<rospy.topics.Subscriber at 0x7fa88afc7bd0>"
      ]
     },
     "execution_count": 9,
     "metadata": {},
     "output_type": "execute_result"
    }
   ],
   "source": [
    "rospy.Subscriber('/map_metadata', MapMetaData, cb_MapMetaData)\n",
    "rospy.Subscriber('/map', OccupancyGrid, cb_OccupancyGrid)\n",
    "rospy.Subscriber('/base_pose_ground_truth', Odometry, cb_Pose)\n",
    "rospy.Subscriber('/base_scan', LaserScan, cb_Scan)"
   ]
  },
  {
   "cell_type": "code",
   "execution_count": 46,
   "metadata": {},
   "outputs": [],
   "source": [
    "import numpy as np\n",
    "import matplotlib.pyplot as plt\n",
    "from IPython import display\n",
    "%matplotlib inline\n",
    "\n",
    "def plot_stage():\n",
    "    plt.rcParams[\"figure.figsize\"] = (6,6)\n",
    "    plt.clf();\n",
    "    m = np.array(og)\n",
    "    m = np.flipud(100 - m.reshape((200, 200)))\n",
    "    plt.imshow(m, cmap='gray');\n",
    "    plt.axis('off');\n",
    "    (x, y) = pixel(pose.position.x, pose.position.y, mmd)\n",
    "    plt.plot(x,y,'o');\n",
    "    angles = np.arange(len(scan.ranges)) * scan.angle_increment + scan.angle_min\n",
    "    ranges = np.array(scan.ranges)\n",
    "    x = np.append([0], scan.ranges * np.cos(angles)) + pose.position.x\n",
    "    y = np.append([0], scan.ranges * np.sin(angles)) + pose.position.y\n",
    "    (x, y) = pixel(x, y, mmd)\n",
    "    plt.fill(x,y,'c.')\n",
    "    display.display(plt.gcf())\n",
    "    display.clear_output(wait=True)"
   ]
  },
  {
   "cell_type": "code",
   "execution_count": 48,
   "metadata": {},
   "outputs": [
    {
     "data": {
      "image/png": "[encoded data removed]",
      "text/plain": [
       "<matplotlib.figure.Figure at 0x7fa854454050>"
      ]
     },
     "metadata": {},
     "output_type": "display_data"
    }
   ],
   "source": [
    "from geometry_msgs.msg import Twist\n",
    "\n",
    "rate = rospy.Rate(10) # 10hz\n",
    "pub = rospy.Publisher('cmd_vel', Twist, queue_size=10)\n",
    "twist = Twist()\n",
    "twist.linear.x = -0.25\n",
    "for i in range(50):\n",
    "    pub.publish(twist)\n",
    "    plot_stage()\n",
    "    rate.sleep()"
   ]
  },
  {
   "cell_type": "code",
   "execution_count": null,
   "metadata": {},
   "outputs": [],
   "source": []
  }
 ],
 "metadata": {
  "kernelspec": {
   "display_name": "Python 2",
   "language": "python",
   "name": "python2"
  },
  "language_info": {
   "codemirror_mode": {
    "name": "ipython",
    "version": 2
   },
   "file_extension": ".py",
   "mimetype": "text/x-python",
   "name": "python",
   "nbconvert_exporter": "python",
   "pygments_lexer": "ipython2",
   "version": "2.7.12"
  }
 },
 "nbformat": 4,
 "nbformat_minor": 2
}
