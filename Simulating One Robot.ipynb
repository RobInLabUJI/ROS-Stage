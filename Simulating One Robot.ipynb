{
 "cells": [
  {
   "cell_type": "code",
   "execution_count": 1,
   "metadata": {},
   "outputs": [
    {
     "name": "stdout",
     "output_type": "stream",
     "text": [
      "Starting job # 0 in a separate thread.\n"
     ]
    }
   ],
   "source": [
    "%%bash --bg\n",
    "roscore"
   ]
  },
  {
   "cell_type": "code",
   "execution_count": 2,
   "metadata": {},
   "outputs": [
    {
     "name": "stdout",
     "output_type": "stream",
     "text": [
      "Starting job # 2 in a separate thread.\n"
     ]
    }
   ],
   "source": [
    "%%bash --bg\n",
    "rosrun stage_ros stageros -g maps/stage/maze.world"
   ]
  },
  {
   "cell_type": "code",
   "execution_count": 3,
   "metadata": {},
   "outputs": [],
   "source": [
    "%%bash\n",
    "rosparam set use_sim_time true"
   ]
  },
  {
   "cell_type": "code",
   "execution_count": 4,
   "metadata": {},
   "outputs": [
    {
     "name": "stdout",
     "output_type": "stream",
     "text": [
      "Starting job # 3 in a separate thread.\n"
     ]
    }
   ],
   "source": [
    "%%bash --bg\n",
    "rosrun map_server map_server maps/maze.yaml"
   ]
  },
  {
   "cell_type": "code",
   "execution_count": 17,
   "metadata": {},
   "outputs": [
    {
     "name": "stdout",
     "output_type": "stream",
     "text": [
      "Type: nav_msgs/Odometry\r\n",
      "\r\n",
      "Publishers: \r\n",
      " * /stageros (http://jupyter-robinlabuji-2dros-2dstage-2diqcwukmj:34132/)\r\n",
      "\r\n",
      "Subscribers: \r\n",
      " * /listener_36_1519382895683 (http://jupyter-robinlabuji-2dros-2dstage-2diqcwukmj:41455/)\r\n",
      "\r\n",
      "\r\n"
     ]
    }
   ],
   "source": [
    "!rostopic info /base_pose_ground_truth"
   ]
  },
  {
   "cell_type": "code",
   "execution_count": 6,
   "metadata": {},
   "outputs": [
    {
     "name": "stdout",
     "output_type": "stream",
     "text": [
      "/map_server_1519382885982078889\r\n",
      "/rosout\r\n",
      "/stageros\r\n"
     ]
    }
   ],
   "source": [
    "!rosnode list"
   ]
  },
  {
   "cell_type": "code",
   "execution_count": 7,
   "metadata": {},
   "outputs": [],
   "source": [
    "import rospy\n",
    "from nav_msgs.msg import MapMetaData, OccupancyGrid, Odometry\n",
    "from sensor_msgs.msg import LaserScan\n",
    "\n",
    "def cb_MapMetaData(data):\n",
    "    global mmd\n",
    "    mmd = data\n",
    "    \n",
    "def cb_OccupancyGrid(data):\n",
    "    global og\n",
    "    og = data.data\n",
    "    \n",
    "def cb_Pose(data):\n",
    "    global pose\n",
    "    pose = data.pose.pose\n",
    "    \n",
    "def cb_Scan(data):\n",
    "    global scan\n",
    "    scan = data"
   ]
  },
  {
   "cell_type": "code",
   "execution_count": 8,
   "metadata": {},
   "outputs": [],
   "source": [
    "rospy.init_node('listener', anonymous=True)"
   ]
  },
  {
   "cell_type": "code",
   "execution_count": 9,
   "metadata": {},
   "outputs": [
    {
     "data": {
      "text/plain": [
       "<rospy.topics.Subscriber at 0x7f28ee7a4d10>"
      ]
     },
     "execution_count": 9,
     "metadata": {},
     "output_type": "execute_result"
    }
   ],
   "source": [
    "rospy.Subscriber('/map_metadata', MapMetaData, cb_MapMetaData)\n",
    "rospy.Subscriber('/map', OccupancyGrid, cb_OccupancyGrid)\n",
    "rospy.Subscriber('/base_pose_ground_truth', Odometry, cb_Pose)\n",
    "rospy.Subscriber('/base_scan', LaserScan, cb_Scan)"
   ]
  },
  {
   "cell_type": "code",
   "execution_count": 35,
   "metadata": {},
   "outputs": [],
   "source": [
    "import numpy as np\n",
    "import matplotlib.pyplot as plt\n",
    "from IPython import display\n",
    "%matplotlib inline\n",
    "\n",
    "def pixel(x, y, mmd):\n",
    "    xp = x / mmd.resolution\n",
    "    yp = y / mmd.resolution\n",
    "    return (xp, yp)\n",
    "\n",
    "def plot_stage():\n",
    "    plt.rcParams[\"figure.figsize\"] = (6,6)\n",
    "    plt.clf();\n",
    "    m = np.array(og)\n",
    "    m = 100 - m.reshape((200, 200))\n",
    "    plt.imshow(m, origin='lower', cmap='gray');\n",
    "    plt.axis('off');\n",
    "    (x, y) = pixel(pose.position.x, pose.position.y, mmd)\n",
    "    base_angle = np.arctan2(pose.orientation.z, pose.orientation.w) * 2\n",
    "    plt.plot(x,y,'ro');\n",
    "    angles = np.arange(len(scan.ranges)) * scan.angle_increment + scan.angle_min + base_angle\n",
    "    ranges = np.array(scan.ranges)\n",
    "    x = np.append([0], scan.ranges * np.cos(angles)) + pose.position.x\n",
    "    y = np.append([0], scan.ranges * np.sin(angles)) + pose.position.y\n",
    "    (x, y) = pixel(x, y, mmd)\n",
    "    plt.fill(x,y,'c.')\n",
    "    display.display(plt.gcf())\n",
    "    display.clear_output(wait=True)"
   ]
  },
  {
   "cell_type": "code",
   "execution_count": 39,
   "metadata": {},
   "outputs": [
    {
     "data": {
      "image/png": "[encoded data removed]",
      "text/plain": [
       "<matplotlib.figure.Figure at 0x7f28a8db15d0>"
      ]
     },
     "metadata": {},
     "output_type": "display_data"
    }
   ],
   "source": [
    "from geometry_msgs.msg import Twist\n",
    "\n",
    "rate = rospy.Rate(10) # 10hz\n",
    "pub = rospy.Publisher('cmd_vel', Twist, queue_size=10)\n",
    "twist = Twist()\n",
    "twist.linear.x = 0.50\n",
    "twist.angular.z = 0.0\n",
    "for i in range(20):\n",
    "    pub.publish(twist)\n",
    "    plot_stage()\n",
    "    rate.sleep()"
   ]
  },
  {
   "cell_type": "code",
   "execution_count": 40,
   "metadata": {},
   "outputs": [],
   "source": [
    "from ipywidgets import interact"
   ]
  },
  {
   "cell_type": "code",
   "execution_count": 50,
   "metadata": {},
   "outputs": [],
   "source": [
    "def f(linear, angular):\n",
    "    twist.linear.x = linear\n",
    "    twist.angular.z = angular\n",
    "    pub.publish(twist)\n",
    "    plot_stage()"
   ]
  },
  {
   "cell_type": "code",
   "execution_count": 51,
   "metadata": {},
   "outputs": [
    {
     "data": {
      "application/vnd.jupyter.widget-view+json": {
       "model_id": "43bb2e7ea46a417aa3e4a1c8dd04f307",
       "version_major": 2,
       "version_minor": 0
      },
      "text/html": [
       "<p>Failed to display Jupyter Widget of type <code>interactive</code>.</p>\n",
       "<p>\n",
       "  If you're reading this message in the Jupyter Notebook or JupyterLab Notebook, it may mean\n",
       "  that the widgets JavaScript is still loading. If this message persists, it\n",
       "  likely means that the widgets JavaScript library is either not installed or\n",
       "  not enabled. See the <a href=\"https://ipywidgets.readthedocs.io/en/stable/user_install.html\">Jupyter\n",
       "  Widgets Documentation</a> for setup instructions.\n",
       "</p>\n",
       "<p>\n",
       "  If you're reading this message in another frontend (for example, a static\n",
       "  rendering on GitHub or <a href=\"https://nbviewer.jupyter.org/\">NBViewer</a>),\n",
       "  it may mean that your frontend doesn't currently support widgets.\n",
       "</p>\n"
      ],
      "text/plain": [
       "interactive(children=(FloatSlider(value=0.0, description=u'linear', max=1.0, min=-1.0), FloatSlider(value=0.0, description=u'angular', max=1.0, min=-1.0), Output()), _dom_classes=('widget-interact',))"
      ]
     },
     "metadata": {},
     "output_type": "display_data"
    },
    {
     "data": {
      "text/plain": [
       "<function __main__.f>"
      ]
     },
     "execution_count": 51,
     "metadata": {},
     "output_type": "execute_result"
    }
   ],
   "source": [
    "interact(f, linear=(-1.0,1.0,0.1), angular=(-1.0,1.0,0.1))"
   ]
  },
  {
   "cell_type": "code",
   "execution_count": null,
   "metadata": {},
   "outputs": [],
   "source": []
  }
 ],
 "metadata": {
  "kernelspec": {
   "display_name": "Python 2",
   "language": "python",
   "name": "python2"
  },
  "language_info": {
   "codemirror_mode": {
    "name": "ipython",
    "version": 2
   },
   "file_extension": ".py",
   "mimetype": "text/x-python",
   "name": "python",
   "nbconvert_exporter": "python",
   "pygments_lexer": "ipython2",
   "version": "2.7.12"
  }
 },
 "nbformat": 4,
 "nbformat_minor": 2
}
