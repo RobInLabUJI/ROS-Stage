{
 "cells": [
  {
   "cell_type": "code",
   "execution_count": 1,
   "metadata": {},
   "outputs": [
    {
     "name": "stdout",
     "output_type": "stream",
     "text": [
      "Starting job # 0 in a separate thread.\n"
     ]
    }
   ],
   "source": [
    "%%bash --bg\n",
    "roscore"
   ]
  },
  {
   "cell_type": "code",
   "execution_count": 2,
   "metadata": {},
   "outputs": [
    {
     "name": "stdout",
     "output_type": "stream",
     "text": [
      "Starting job # 2 in a separate thread.\n"
     ]
    }
   ],
   "source": [
    "%%bash --bg\n",
    "rosrun stage_ros stageros -g $(rospack find stage_ros)/world/willow-erratic.world"
   ]
  },
  {
   "cell_type": "code",
   "execution_count": 13,
   "metadata": {},
   "outputs": [],
   "source": [
    "%%bash\n",
    "rosparam set use_sim_time true"
   ]
  },
  {
   "cell_type": "code",
   "execution_count": 17,
   "metadata": {},
   "outputs": [
    {
     "name": "stdout",
     "output_type": "stream",
     "text": [
      "/base_pose_ground_truth\r\n",
      "/base_scan\r\n",
      "/clock\r\n",
      "/cmd_vel\r\n",
      "/odom\r\n",
      "/rosout\r\n",
      "/rosout_agg\r\n",
      "/tf\r\n"
     ]
    }
   ],
   "source": [
    "!rostopic list"
   ]
  },
  {
   "cell_type": "code",
   "execution_count": 18,
   "metadata": {},
   "outputs": [
    {
     "name": "stdout",
     "output_type": "stream",
     "text": [
      "Type: rosgraph_msgs/Clock\r\n",
      "\r\n",
      "Publishers: \r\n",
      " * /stageros (http://jupyter-robinlabuji-2dros-2dstage-2dklaw0bn9:35435/)\r\n",
      "\r\n",
      "Subscribers: None\r\n",
      "\r\n",
      "\r\n"
     ]
    }
   ],
   "source": [
    "!rostopic info /clock"
   ]
  },
  {
   "cell_type": "code",
   "execution_count": 19,
   "metadata": {},
   "outputs": [
    {
     "name": "stdout",
     "output_type": "stream",
     "text": [
      "header: \r\n",
      "  seq: 2873\r\n",
      "  stamp: \r\n",
      "    secs: 287\r\n",
      "    nsecs: 400000000\r\n",
      "  frame_id: \"odom\"\r\n",
      "child_frame_id: ''\r\n",
      "pose: \r\n",
      "  pose: \r\n",
      "    position: \r\n",
      "      x: -11.277\r\n",
      "      y: 23.266\r\n",
      "      z: 0.0\r\n",
      "    orientation: \r\n",
      "      x: 0.0\r\n",
      "      y: 0.0\r\n",
      "      z: 1.0\r\n",
      "      w: 6.12323399574e-17\r\n",
      "  covariance: [0.0, 0.0, 0.0, 0.0, 0.0, 0.0, 0.0, 0.0, 0.0, 0.0, 0.0, 0.0, 0.0, 0.0, 0.0, 0.0, 0.0, 0.0, 0.0, 0.0, 0.0, 0.0, 0.0, 0.0, 0.0, 0.0, 0.0, 0.0, 0.0, 0.0, 0.0, 0.0, 0.0, 0.0, 0.0, 0.0]\r\n",
      "twist: \r\n",
      "  twist: \r\n",
      "    linear: \r\n",
      "      x: 0.0\r\n",
      "      y: 0.0\r\n",
      "      z: 0.0\r\n",
      "    angular: \r\n",
      "      x: 0.0\r\n",
      "      y: 0.0\r\n",
      "      z: 0.0\r\n",
      "  covariance: [0.0, 0.0, 0.0, 0.0, 0.0, 0.0, 0.0, 0.0, 0.0, 0.0, 0.0, 0.0, 0.0, 0.0, 0.0, 0.0, 0.0, 0.0, 0.0, 0.0, 0.0, 0.0, 0.0, 0.0, 0.0, 0.0, 0.0, 0.0, 0.0, 0.0, 0.0, 0.0, 0.0, 0.0, 0.0, 0.0]\r\n",
      "---\r\n"
     ]
    }
   ],
   "source": [
    "!rostopic echo -n 1 /base_pose_ground_truth"
   ]
  },
  {
   "cell_type": "code",
   "execution_count": 16,
   "metadata": {},
   "outputs": [
    {
     "name": "stdout",
     "output_type": "stream",
     "text": [
      "clock: \r\n",
      "  secs: 207\r\n",
      "  nsecs: 100000000\r\n",
      "---\r\n"
     ]
    }
   ],
   "source": [
    "!rostopic echo -n 1 /clock"
   ]
  },
  {
   "cell_type": "code",
   "execution_count": null,
   "metadata": {},
   "outputs": [],
   "source": []
  }
 ],
 "metadata": {
  "kernelspec": {
   "display_name": "Python 2",
   "language": "python",
   "name": "python2"
  },
  "language_info": {
   "codemirror_mode": {
    "name": "ipython",
    "version": 2
   },
   "file_extension": ".py",
   "mimetype": "text/x-python",
   "name": "python",
   "nbconvert_exporter": "python",
   "pygments_lexer": "ipython2",
   "version": "2.7.12"
  }
 },
 "nbformat": 4,
 "nbformat_minor": 2
}
